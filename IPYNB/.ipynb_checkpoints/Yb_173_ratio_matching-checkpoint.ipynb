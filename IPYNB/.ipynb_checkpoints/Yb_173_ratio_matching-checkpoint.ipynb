{
 "cells": [
  {
   "cell_type": "code",
   "execution_count": 1,
   "id": "b2145b1d",
   "metadata": {},
   "outputs": [],
   "source": [
    "# Yb-173 #\n",
    "\n",
    "\n",
    "from sympy.physics.wigner import wigner_3j\n",
    "from sympy.physics.wigner import wigner_6j\n",
    "from numpy import*\n",
    "from qutip import*\n",
    "import scipy.constants as C\n",
    "import matplotlib.pyplot as plt\n"
   ]
  },
  {
   "cell_type": "code",
   "execution_count": 2,
   "id": "96643492",
   "metadata": {},
   "outputs": [],
   "source": [
    "# 定义常数 #\n",
    "\n",
    "\n",
    "i = 0+1j # 虚数单位\n",
    "hbar = C.h/(2*pi) # 约化普朗克常数\n",
    "epsilon_0 = 8.854e-12 # 真空介电常数\n",
    "\n",
    "\n",
    "# atom #\n",
    "a0 = 5.2917721067e-11 # 玻尔半径\n",
    "n = 6\n",
    "I = 5/2 # Yb-173\n",
    "J = [0,1]\n",
    "F = F1 = 5/2 # |1S_0>\n",
    "M = [5/2,3/2,1/2,-1/2,-3/2,-5/2]\n",
    "F2 = [3/2,5/2,7/2] # |3P_1>\n",
    "gamma = 2*pi*183.8e3 # 自然线宽\n",
    "\n",
    "freq_ref = 539390.405-4759.440e-3 # Yb-176(GHz)\n",
    "# |1S_0>-|3P_1>: F = 3/2, F = 5/2, F = 7/2 #\n",
    "freq = [freq_ref+4762.110e-3,freq_ref+3266.243e-3,freq_ref-1431.872e-3] # (GHz)!!!\n",
    "\n",
    "product_J = 0.54*a0 # <1S_0||r||3P_1> 跃迁矩阵元\n",
    "\n",
    "\n",
    "# light #\n",
    "u = array([0,1/sqrt(2),i/sqrt(2)]) # polarization vector\n",
    "K = [0,1,2]\n",
    "\n",
    "P = 0.8 # 光功率(mW)\n",
    "omega_0 = 150 # (um)\n",
    "I_0 = P*1e-3*2/(C.c*pi*(omega_0*1e-6)**2) # 中心光功率密度\n",
    "epsilon_square = I_0*2/epsilon_0 # 电矢量模平方\n"
   ]
  },
  {
   "cell_type": "code",
   "execution_count": 3,
   "id": "aef66e71",
   "metadata": {},
   "outputs": [],
   "source": [
    "# 定义函数：reduced polarizability #\n",
    "\n",
    "\n",
    "def Alpha_K_F(light_freq,freq):\n",
    "    \n",
    "    detune = [0 for detune_num in range(len(freq))]\n",
    "    \n",
    "    for freq_num in range(len(freq)):\n",
    "        detune[freq_num] = 2*pi*(light_freq-freq[freq_num])*1e9 # 圆频率失谐(rad/s)\n",
    "    \n",
    "    alpha = [0 for i in range(len(K))] # 定义数列维数\n",
    "    \n",
    "    for K_num in range(len(K)):\n",
    "        term = 0\n",
    "        \n",
    "        # 计算reduced polarizability #\n",
    "        for F_num in range(len(F2)):\n",
    "            term = term + (-1)**(F2[F_num]+F1)*(2*F2[F_num]+1)*wigner_6j(1,K[K_num],1,F1,F2[F_num],F1)\\\n",
    "            *wigner_6j(F1,1,F2[F_num],J[1],I,J[0])**2\\\n",
    "            *(1/hbar)*(-detune[F_num]/(detune[F_num]**2+(gamma/2)**2))\n",
    "            \n",
    "        alpha[K_num] = (-1)**(K[K_num]+1)*(2*F1+1)*sqrt(2*K[K_num]+1)*(product_J*C.e)**2*term  # dimention: [d]^2*[e]^2/[E]\n",
    "        \n",
    "    return alpha\n"
   ]
  },
  {
   "cell_type": "code",
   "execution_count": 7,
   "id": "93ebc92d",
   "metadata": {},
   "outputs": [
    {
     "name": "stdout",
     "output_type": "stream",
     "text": [
      "alpha_0 is 9.6462154e-36\n",
      "alpha_s_F is 2.2736348e-36\n",
      "\n",
      "alpha_1 is -4.4913315e-36\n",
      "alpha_v_F is 2.1915454e-36\n",
      "\n",
      "alpha_2 is 1.4606571e-36\n",
      "alpha_T_F is -2.9096985e-37\n",
      "\n",
      "alpha_2/alpha_1:\n",
      "-0.32521693519186545\n"
     ]
    }
   ],
   "source": [
    "# conventional polarizability #\n",
    "\n",
    "\n",
    "\n",
    "# 自变量输入(GHz) #\n",
    "\n",
    "# 1*sigmax + 1*sigmax^2 ---> 最优: 5392.7MHz #\n",
    "# 1*sigmax + 2*sigmax^2 ---> 最优: 5233.5MHz #\n",
    "\n",
    "# 5/2 ---> 5/2 : 4698MHz ;   5/2 ---> 3/2 : 6194MHz #\n",
    "\n",
    "detune = 5392.7  # 相对|1S_0,5/2> ---> |3P_1,7/2> (MHz)\n",
    "#detune = 5230  # 相对|1S_0,5/2> ---> |3P_1,7/2> (MHz)\n",
    "light_freq = freq_ref-1431.872e-3+detune*1e-3  # 光频率，自变量(GHz)\n",
    "alpha_K = Alpha_K_F(light_freq,freq)\n",
    "\n",
    "\n",
    "# conventional scalar polarizability #\n",
    "def Alpha_s_F(light_freq,freq):\n",
    "    \n",
    "    alpha_K = Alpha_K_F(light_freq,freq)\n",
    "    alpha_s_F = 1/sqrt(3*(2*F1+1))*alpha_K[0]\n",
    "    \n",
    "    return alpha_s_F\n",
    "\n",
    "alpha_s_F = Alpha_s_F(light_freq,freq)\n",
    "print('alpha_0 is %.7e'%alpha_K[0])\n",
    "print('alpha_s_F is %.7e\\n'%alpha_s_F)\n",
    "\n",
    "\n",
    "# conventional vector polarizability #\n",
    "def Alpha_v_F(light_freq,freq):\n",
    "    \n",
    "    alpha_K = Alpha_K_F(light_freq,freq)\n",
    "    alpha_v_F = -sqrt(2*F1/((F1+1)*(2*F1+1)))*alpha_K[1]\n",
    "    \n",
    "    return alpha_v_F\n",
    "\n",
    "alpha_v_F = Alpha_v_F(light_freq,freq)\n",
    "print('alpha_1 is %.7e'%alpha_K[1])\n",
    "print('alpha_v_F is %.7e\\n'%alpha_v_F)\n",
    "\n",
    "\n",
    "# conventional tensor polarizability #\n",
    "def Alpha_T_F(light_freq,freq):\n",
    "    \n",
    "    alpha_K = Alpha_K_F(light_freq,freq)\n",
    "    alpha_T_F = -sqrt(2*F1*(2*F1-1)/(3*(F1+1)*(2*F1+1)*(2*F1+3)))*alpha_K[2]\n",
    "    \n",
    "    return alpha_T_F\n",
    "\n",
    "alpha_T_F = Alpha_T_F(light_freq,freq)\n",
    "print('alpha_2 is %.7e'%alpha_K[2])\n",
    "print('alpha_T_F is %.7e'%alpha_T_F)\n",
    "\n",
    "alpha_ratio = float(alpha_K[2]/alpha_K[1])\n",
    "print('\\nalpha_2/alpha_1:')\n",
    "print(alpha_ratio)\n"
   ]
  },
  {
   "cell_type": "code",
   "execution_count": 10,
   "id": "dea64727",
   "metadata": {},
   "outputs": [],
   "source": [
    "# alpha_2/alpha_1随失谐的关系 #\n",
    "\n",
    "\n",
    "# 扫描范围 #\n",
    "detune_list = linspace(-1000,7000,1000) # (MHz)\n",
    "light_freq_list = (freq_ref-1431.872e-3)*ones(len(detune_list))+detune_list*1e-3 # 光频率，自变量(GHz)\n",
    "alpha_K_list = zeros((len(light_freq_list),3))\n",
    "alpha_ratio_list = zeros(len(light_freq_list))\n",
    "\n",
    "for light_num in range(len(light_freq_list)):\n",
    "    alpha_K_list[light_num] = Alpha_K_F(light_freq_list[light_num],freq)\n",
    "    alpha_ratio_list[light_num] = float(alpha_K_list[light_num,2]/alpha_K_list[light_num,1])\n",
    "\n"
   ]
  },
  {
   "cell_type": "code",
   "execution_count": 11,
   "id": "980bf8a6",
   "metadata": {},
   "outputs": [],
   "source": [
    "# 输出表格 #\n",
    "\n",
    "\n",
    "\n",
    "# Polarizability #\n",
    "\n",
    "import xlsxwriter as xw\n",
    "import pandas as pd\n",
    "\n",
    "list = zeros((len(detune_list),4))\n",
    "for list_num in range(len(detune_list)):\n",
    "    \n",
    "    list[list_num,0] = detune_list[list_num]\n",
    "    list[list_num,1] = alpha_K_list[list_num,0]/((a0)**2*C.e**2/(27.2114*C.e))\n",
    "    list[list_num,2] = alpha_K_list[list_num,1]/((a0)**2*C.e**2/(27.2114*C.e))\n",
    "    list[list_num,3] = alpha_K_list[list_num,2]/((a0)**2*C.e**2/(27.2114*C.e))\n",
    "\n",
    "name = ['Detuning','Scalor','Vector','Tensor']\n",
    "test = pd.DataFrame(columns = name,data = list)\n",
    "#test.to_excel('C:/Lab/EDM/Yb/556shift/Polarizability.xlsx',encoding = 'gbk')\n",
    "\n",
    "\n",
    "# Ratio #\n",
    "\n",
    "list = zeros((len(detune_list),2))\n",
    "for list_num in range(len(detune_list)):\n",
    "    \n",
    "    list[list_num,0] = detune_list[list_num]\n",
    "    list[list_num,1] = alpha_ratio_list[list_num]\n",
    "\n",
    "name = ['Detuning','Ratio']\n",
    "test = pd.DataFrame(columns = name,data = list)\n",
    "#test.to_excel('C:/Lab/EDM/Yb/556shift/Ratio.xlsx',encoding = 'gbk')\n"
   ]
  },
  {
   "cell_type": "code",
   "execution_count": 12,
   "id": "46fe0e4e",
   "metadata": {},
   "outputs": [
    {
     "data": {
      "text/plain": [
       "<function matplotlib.pyplot.show(close=None, block=None)>"
      ]
     },
     "execution_count": 12,
     "metadata": {},
     "output_type": "execute_result"
    },
    {
     "data": {
      "image/png": "[encoded data removed]",
      "text/plain": [
       "<Figure size 1152x432 with 1 Axes>"
      ]
     },
     "metadata": {
      "needs_background": "light"
     },
     "output_type": "display_data"
    },
    {
     "data": {
      "image/png": "[encoded data removed]",
      "text/plain": [
       "<Figure size 1152x432 with 1 Axes>"
      ]
     },
     "metadata": {
      "needs_background": "light"
     },
     "output_type": "display_data"
    },
    {
     "data": {
      "image/png": "[encoded data removed]",
      "text/plain": [
       "<Figure size 1152x432 with 1 Axes>"
      ]
     },
     "metadata": {
      "needs_background": "light"
     },
     "output_type": "display_data"
    }
   ],
   "source": [
    "# alpha2/alpha1 #\n",
    "plt.figure(figsize=(16,6))\n",
    "plt.scatter(detune_list,alpha_ratio_list,c='g',marker='.')\n",
    "plt.plot(detune_list,-3.26598*ones(len(detune_list)))\n",
    "#plt.plot(detune_list,3.26598*ones(len(detune_list)))\n",
    "plt.ylim(-5,5)\n",
    "plt.xticks(fontsize = 15)\n",
    "plt.xlabel('detune(MHz)',fontsize = 15)\n",
    "plt.xticks(fontsize = 15)\n",
    "plt.ylabel('ratio',fontsize = 15)\n",
    "plt.title('alpha2/alpha1',fontsize = 20)\n",
    "\n",
    "# alpha1 #\n",
    "plt.figure(figsize=(16,6))\n",
    "plt.scatter(detune_list,alpha_K_list[:,1]/((a0)**2*C.e**2/(27.2114*C.e)),marker='.')  # a.u.\n",
    "plt.plot(detune_list,0*ones(len(detune_list)))\n",
    "plt.ylim(-0.5e7,0.5e7)\n",
    "plt.xticks(fontsize = 15)\n",
    "plt.xlabel('detune(MHz)',fontsize = 15)\n",
    "plt.xticks(fontsize = 15)\n",
    "plt.ylabel('alpha1(a.u.)',fontsize = 15)\n",
    "plt.title('reduced vector polarizability',fontsize = 20)\n",
    "\n",
    "# alpha2 #\n",
    "plt.figure(figsize=(16,6))\n",
    "plt.scatter(detune_list,alpha_K_list[:,2]/((a0)**2*C.e**2/(27.2114*C.e)),marker='.')  # a.u.\n",
    "plt.ylim(-0.5e7,0.5e7)\n",
    "plt.xticks(fontsize = 15)\n",
    "plt.xlabel('detune(MHz)',fontsize = 15)\n",
    "plt.yticks(fontsize = 15)\n",
    "plt.ylabel('alpha2(a.u.)',fontsize = 15)\n",
    "plt.title('reduced tensor polarizability',fontsize = 20)\n",
    "\n",
    "plt.show\n"
   ]
  },
  {
   "cell_type": "code",
   "execution_count": 13,
   "id": "72764cee",
   "metadata": {},
   "outputs": [],
   "source": [
    "# spherical tensor components of the polarization vector u #\n",
    "\n",
    "\n",
    "def Spherical_Ten(u,miu):\n",
    "    \n",
    "    if miu == -1:\n",
    "        u_miu = (u[0]-u[1]*i)/sqrt(2)\n",
    "    elif miu == 0:\n",
    "        u_miu = u[2]\n",
    "    elif miu == 1:\n",
    "        u_miu = -(u[0]+u[1]*i)/sqrt(2)\n",
    "    else:\n",
    "        print('input error!\\n')\n",
    "        return\n",
    "    return u_miu\n"
   ]
  },
  {
   "cell_type": "code",
   "execution_count": 14,
   "id": "2d133fce",
   "metadata": {},
   "outputs": [],
   "source": [
    "# compound tensor components #\n",
    "# u should be nomalizied #\n",
    "\n",
    "\n",
    "def Compound_Ten_K_q(u,K,q):\n",
    "    \n",
    "    compound_ten = 0\n",
    "    for miu1 in range(-1,2):\n",
    "        for miu2 in range(-1,2):\n",
    "            u_miu1 = Spherical_Ten(u,miu1)\n",
    "            u_negamiu2 = Spherical_Ten(u,-miu2)\n",
    "            u_negamiu2_star = u_negamiu2.conjugate()\n",
    "            cplex = (-1)**(q+miu2)*u_miu1*u_negamiu2_star*sqrt(2*K+1)*wigner_3j(1,K,1,miu1,-q,miu2)\n",
    "            compound_ten = compound_ten+cplex\n",
    "    return compound_ten\n"
   ]
  },
  {
   "cell_type": "code",
   "execution_count": 15,
   "id": "8f593852",
   "metadata": {},
   "outputs": [],
   "source": [
    "# 构造哈密顿量和初态 #\n",
    "\n",
    "\n",
    "# Hamiltonian #\n",
    "def Hamiltonian(u,K,alpha_K):\n",
    "    \n",
    "    H = zeros((6,6))  # 初始化\n",
    "    \n",
    "    # 哈密顿量矩阵元 #\n",
    "    for M1_num in range(len(M)):\n",
    "        for M2_num in range(len(M)):\n",
    "            H_M1_num_M2_num = 0\n",
    "            for K_num in range(len(K)):\n",
    "                q = zeros(2*len(K)+1)\n",
    "                for q_num in range(len(q)):\n",
    "                    q[q_num] = -K[K_num]+q_num\n",
    "                    com_ten_K_q = Compound_Ten_K_q(u,K[K_num],q[q_num])  # compound tensor component\n",
    "                    H_M1_num_M2_num = H_M1_num_M2_num+(-1)**(K[K_num]+q[q_num])*com_ten_K_q\\\n",
    "                    *(-1)**(F-M[M1_num])*wigner_3j(F,K[K_num],F,-M[M1_num],-q[q_num],M[M2_num])\\\n",
    "                    *alpha_K[K_num]\n",
    "                    \n",
    "            H[M1_num,M2_num] = H_M1_num_M2_num*(epsilon_square/4)/C.h\n",
    "    \n",
    "    return H\n",
    "\n",
    "# initial state,|+5/2> #\n",
    "in_state = basis(int(2*F+1),0)\n"
   ]
  },
  {
   "cell_type": "code",
   "execution_count": 21,
   "id": "861ee00d",
   "metadata": {},
   "outputs": [
    {
     "name": "stdout",
     "output_type": "stream",
     "text": [
      "Hamiltonian vector term:\n",
      "[[    0.         10296.60893518     0.             0.\n",
      "      0.             0.        ]\n",
      " [10296.60893518     0.         13024.29456448     0.\n",
      "      0.             0.        ]\n",
      " [    0.         13024.29456448     0.         13814.35051007\n",
      "      0.             0.        ]\n",
      " [    0.             0.         13814.35051007     0.\n",
      "  13024.29456448     0.        ]\n",
      " [    0.             0.             0.         13024.29456448\n",
      "      0.         10296.60893518]\n",
      " [    0.             0.             0.             0.\n",
      "  10296.60893518     0.        ]]\n",
      "\n",
      "Hamiltonian tensor term:\n",
      "[[ 13201.94271968      0.         -12524.46255998      0.\n",
      "       0.              0.        ]\n",
      " [     0.          -2640.38854394      0.         -16803.32979946\n",
      "       0.              0.        ]\n",
      " [-12524.46255998      0.         -10561.55417575      0.\n",
      "  -16803.32979946      0.        ]\n",
      " [     0.         -16803.32979946      0.         -10561.55417575\n",
      "       0.         -12524.46255998]\n",
      " [     0.              0.         -16803.32979946      0.\n",
      "   -2640.38854394      0.        ]\n",
      " [     0.              0.              0.         -12524.46255998\n",
      "       0.          13201.94271968]]\n"
     ]
    }
   ],
   "source": [
    "# Hamiltonian vector/tensor term #\n",
    "\n",
    "\n",
    "# vector term #\n",
    "alpha_K_v = [0,alpha_K[1],0]\n",
    "Ham_v = Hamiltonian(u,K,alpha_K_v)  # Hamiltonian vector term\n",
    "print('Hamiltonian vector term:')\n",
    "print(Ham_v)\n",
    "\n",
    "# tensor term #\n",
    "alpha_K_T = [0,0,alpha_K[2]]\n",
    "Ham_T1 = Hamiltonian(u,K,alpha_K_T)  # Hamiltonian tensor term\n",
    "print('\\nHamiltonian tensor term:')\n",
    "print(Ham_T1)\n"
   ]
  },
  {
   "cell_type": "code",
   "execution_count": 17,
   "id": "a76f0cbc",
   "metadata": {},
   "outputs": [
    {
     "name": "stdout",
     "output_type": "stream",
     "text": [
      "sigmax:\n",
      "Quantum object: dims = [[6], [6]], shape = (6, 6), type = oper, isherm = True\n",
      "Qobj data =\n",
      "[[0.         1.11803399 0.         0.         0.         0.        ]\n",
      " [1.11803399 0.         1.41421356 0.         0.         0.        ]\n",
      " [0.         1.41421356 0.         1.5        0.         0.        ]\n",
      " [0.         0.         1.5        0.         1.41421356 0.        ]\n",
      " [0.         0.         0.         1.41421356 0.         1.11803399]\n",
      " [0.         0.         0.         0.         1.11803399 0.        ]]\n",
      "\n",
      "sigmax^2:\n",
      "Quantum object: dims = [[6], [6]], shape = (6, 6), type = oper, isherm = True\n",
      "Qobj data =\n",
      "[[1.25       0.         1.58113883 0.         0.         0.        ]\n",
      " [0.         3.25       0.         2.12132034 0.         0.        ]\n",
      " [1.58113883 0.         4.25       0.         2.12132034 0.        ]\n",
      " [0.         2.12132034 0.         4.25       0.         1.58113883]\n",
      " [0.         0.         2.12132034 0.         3.25       0.        ]\n",
      " [0.         0.         0.         1.58113883 0.         1.25      ]]\n",
      "\n",
      "\n"
     ]
    }
   ],
   "source": [
    "# sigmax,sigmax^2 #\n",
    "\n",
    "\n",
    "print('sigmax:')\n",
    "vector_x = spin_Jx(F)\n",
    "print(vector_x)\n",
    "print('\\nsigmax^2:')\n",
    "tensor_x = (spin_Jx(F)**2)\n",
    "print(tensor_x)\n",
    "print('\\n')\n"
   ]
  },
  {
   "cell_type": "code",
   "execution_count": 22,
   "id": "777895c6",
   "metadata": {},
   "outputs": [
    {
     "name": "stdout",
     "output_type": "stream",
     "text": [
      "Ham_T:\n",
      "[[ -9901.45703976+0.j      0.        +0.j -12524.46255998+0.j\n",
      "       0.        +0.j      0.        +0.j      0.        +0.j]\n",
      " [     0.        +0.j -25743.78830338+0.j      0.        +0.j\n",
      "  -16803.32979946+0.j      0.        +0.j      0.        +0.j]\n",
      " [-12524.46255998+0.j      0.        +0.j -33664.95393519+0.j\n",
      "       0.        +0.j -16803.32979946+0.j      0.        +0.j]\n",
      " [     0.        +0.j -16803.32979946+0.j      0.        +0.j\n",
      "  -33664.95393519+0.j      0.        +0.j -12524.46255998+0.j]\n",
      " [     0.        +0.j      0.        +0.j -16803.32979946+0.j\n",
      "       0.        +0.j -25743.78830338+0.j      0.        +0.j]\n",
      " [     0.        +0.j      0.        +0.j      0.        +0.j\n",
      "  -12524.46255998+0.j      0.        +0.j  -9901.45703976+0.j]]\n",
      "\n",
      "para_v/para_T:\n",
      "-1.162653002701232\n"
     ]
    }
   ],
   "source": [
    "# 凑sigmax^2 #\n",
    "# Ham_T1 = para_T*sigmax^2+para_I*I #\n",
    "\n",
    "\n",
    "para_v = Ham_v[0,1]/vector_x[0,1]\n",
    "para_I = Ham_T1[0,0]-Ham_T1[0,2]/tensor_x[0,2]*tensor_x[0,0]\n",
    "Ham_T = Ham_T1-para_I*eye(int(2*F+1))  # qutip矩阵用qeye(N)表示\n",
    "para_T = Ham_T[0,0]/tensor_x[0,0]\n",
    "print('Ham_T:')\n",
    "print(Ham_T)\n",
    "\n",
    "para_ratio = real(para_v/para_T)\n",
    "print('\\npara_v/para_T:')\n",
    "print(para_ratio)\n"
   ]
  },
  {
   "cell_type": "code",
   "execution_count": 19,
   "id": "b476a974",
   "metadata": {},
   "outputs": [],
   "source": [
    "# certain element of Hamiltonian #\n",
    "\n",
    "def Hamiltonian_element(u,K,alpha_K,M1_num,M2_num):\n",
    "    \n",
    "    q = zeros(2*K+1)\n",
    "    H_element = 0\n",
    "    for q_num in range(len(q)):\n",
    "        q[q_num] = -K+q_num\n",
    "        com_ten_K_q = Compound_Ten_K_q(u,K,q[q_num])  # compound tensor component\n",
    "        H_element = H_element+(-1)**(K+q[q_num])*(epsilon_square/4)/C.h*com_ten_K_q\\\n",
    "            *(-1)**(F-M[M1_num])*wigner_3j(F,K,F,-M[M1_num],-q[q_num],M[M2_num])\\\n",
    "            *alpha_K\n",
    "        \n",
    "    return H_element\n"
   ]
  },
  {
   "cell_type": "code",
   "execution_count": 33,
   "id": "c115c64d",
   "metadata": {},
   "outputs": [],
   "source": [
    "# Hamiltonian vector/tensor term #\n",
    "\n",
    "\n",
    "# 扫描范围 #\n",
    "detune_list = linspace(-1000,7000,500) # (MHz)\n",
    "light_freq_list = (freq_ref-1431.872e-3)*ones(len(detune_list))+detune_list*1e-3 # 光频率，自变量(GHz)\n",
    "alpha_K_list = zeros((len(light_freq_list),3))\n",
    "\n",
    "for light_num in range(len(light_freq_list)):\n",
    "    alpha_K_list[light_num] = Alpha_K_F(light_freq_list[light_num],freq)\n",
    "    \n",
    "para_ratio_list = zeros(len(alpha_K_list[:,0]))\n",
    "\n",
    "for alpha_num in range(len(alpha_K_list[:,0])):\n",
    "    \n",
    "    Ham_v_01 = Hamiltonian_element(u,K[1],alpha_K_list[alpha_num,1],0,1)  # Hamiltonian vector term [0,1]\n",
    "    Ham_T1_00 = Hamiltonian_element(u,K[2],alpha_K_list[alpha_num,2],0,0)  # Hamiltonian tensor term [0,2]\n",
    "    Ham_T1_02 = Hamiltonian_element(u,K[2],alpha_K_list[alpha_num,2],0,2)  # Hamiltonian tensor term [0,2]\n",
    "    \n",
    "    # Ham_T1 = para_T*sigmax^2+para_I*I #\n",
    "    para_v = Ham_v_01/vector_x[0,1]\n",
    "    para_I = Ham_T1_00-Ham_T1_02/tensor_x[0,2]*tensor_x[0,0]\n",
    "    Ham_T_00 = Ham_T1_00-para_I*1\n",
    "    para_T = Ham_T_00/tensor_x[0,0]\n",
    "    para_ratio_list[alpha_num] = real(para_v/para_T)  # para_v/para_T\n",
    "    \n"
   ]
  },
  {
   "cell_type": "code",
   "execution_count": 34,
   "id": "ff7f537e",
   "metadata": {
    "scrolled": false
   },
   "outputs": [
    {
     "data": {
      "text/plain": [
       "<function matplotlib.pyplot.show(close=None, block=None)>"
      ]
     },
     "execution_count": 34,
     "metadata": {},
     "output_type": "execute_result"
    },
    {
     "data": {
      "image/png": "[encoded data removed]",
      "text/plain": [
       "<Figure size 1152x432 with 1 Axes>"
      ]
     },
     "metadata": {
      "needs_background": "light"
     },
     "output_type": "display_data"
    }
   ],
   "source": [
    "# figure #\n",
    "\n",
    "plt.figure(figsize=(16,6))\n",
    "plt.scatter(detune_list,para_ratio_list,c='g',marker='.')\n",
    "plt.plot(detune_list,1*ones(len(detune_list)))\n",
    "plt.plot(detune_list,-1*ones(len(detune_list)))\n",
    "#plt.xlim(5391,5393)\n",
    "#plt.ylim(-1.5,-0.5)\n",
    "plt.xticks(fontsize = 15)\n",
    "plt.xlabel('detune(MHz)',fontsize = 15)\n",
    "plt.yticks(fontsize = 15)\n",
    "plt.ylabel('ratio',fontsize = 15)\n",
    "plt.title('para of sigma/para of sigma^2',fontsize = 20)\n",
    "plt.show\n"
   ]
  }
 ],
 "metadata": {
  "kernelspec": {
   "display_name": "Python 3 (ipykernel)",
   "language": "python",
   "name": "python3"
  },
  "language_info": {
   "codemirror_mode": {
    "name": "ipython",
    "version": 3
   },
   "file_extension": ".py",
   "mimetype": "text/x-python",
   "name": "python",
   "nbconvert_exporter": "python",
   "pygments_lexer": "ipython3",
   "version": "3.9.7"
  }
 },
 "nbformat": 4,
 "nbformat_minor": 5
}
