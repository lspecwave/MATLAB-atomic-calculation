{
 "cells": [
  {
   "cell_type": "code",
   "execution_count": 1,
   "id": "56b57dd1-0643-46ca-876a-549de97f616d",
   "metadata": {},
   "outputs": [],
   "source": [
    "from sympy.physics.wigner import wigner_3j\n",
    "from sympy.physics.wigner import wigner_6j\n",
    "from numpy import*\n",
    "from qutip import*\n",
    "import scipy.constants as C\n",
    "import matplotlib.pyplot as plt"
   ]
  },
  {
   "cell_type": "code",
   "execution_count": 2,
   "id": "c1c3b957-5756-4c92-a2cc-80aa1c5e390a",
   "metadata": {},
   "outputs": [],
   "source": [
    "# light #\n",
    "#u = array([0,1/sqrt(2),i/sqrt(2)]) # polarization vector\n",
    "K = [0,1,2]\n",
    "\n",
    "P = 20 # 光功率(mW)\n",
    "omega_0 =  0.1 # (cm)\n",
    "I_0 = P*1e-3*2/(pi*(omega_0*1e-2)**2) # 中心光功率密度\n",
    "I_0 = 1;\n",
    "epsilon_square = I_0*2/C.epsilon_0/C.c # 电矢量模平方"
   ]
  },
  {
   "cell_type": "code",
   "execution_count": 3,
   "id": "4772057f-63bf-4c94-92c0-a729df08a830",
   "metadata": {},
   "outputs": [],
   "source": [
    "alpha_v_171 = 1.0243046e-35;\n",
    "alpha_T_171 = 0;\n",
    "\n",
    "alpha_v_173 = -6.2979173e-36;\n",
    "alpha_T_173 = -8.3973538e-36;"
   ]
  },
  {
   "cell_type": "code",
   "execution_count": 4,
   "id": "9254ff0d-5f00-4c96-b492-4637b9549a3d",
   "metadata": {},
   "outputs": [
    {
     "name": "stdout",
     "output_type": "stream",
     "text": [
      "0.2911881284930387\n",
      "-0.03580729310384687\n",
      "-0.03580785057466168\n"
     ]
    }
   ],
   "source": [
    "V_171 = 1/4*epsilon_square*alpha_v_171/(2*1/2)/C.h/1e1;  ## Hz\n",
    "print(V_171);\n",
    "\n",
    "V_173 = 1/4*epsilon_square*alpha_v_173/(2*5/2)/C.h/1e1;\n",
    "print(V_173)\n",
    "\n",
    "V_T_173 = 1/4*epsilon_square*3*alpha_T_173/(2*5/2*(2*5/2-1))/C.h/1e1;\n",
    "print(V_T_173)"
   ]
  }
 ],
 "metadata": {
  "kernelspec": {
   "display_name": "Python 3 (ipykernel)",
   "language": "python",
   "name": "python3"
  },
  "language_info": {
   "codemirror_mode": {
    "name": "ipython",
    "version": 3
   },
   "file_extension": ".py",
   "mimetype": "text/x-python",
   "name": "python",
   "nbconvert_exporter": "python",
   "pygments_lexer": "ipython3",
   "version": "3.10.8"
  }
 },
 "nbformat": 4,
 "nbformat_minor": 5
}
