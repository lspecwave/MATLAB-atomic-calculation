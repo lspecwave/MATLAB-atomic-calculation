{
 "cells": [
  {
   "cell_type": "markdown",
   "id": "9f0cb59b-553a-4e81-868d-7faf2bde2fc9",
   "metadata": {
    "tags": []
   },
   "source": [
    "## Definition & Importation"
   ]
  },
  {
   "cell_type": "code",
   "execution_count": null,
   "id": "dcd6a99e-8c72-44f1-84ad-8b595f4cb40c",
   "metadata": {},
   "outputs": [],
   "source": [
    "import qutip as qt\n",
    "import numpy as np\n",
    "import matplotlib.pyplot as plt\n",
    "from scipy.fftpack import fft,ifft\n",
    "\n",
    "def decoherence_rho():\n",
    "    state1=np.array([1,0,0,0,0,1]);\n",
    "    state1=qt.Qobj(state1).unit();\n",
    "    state2=np.array([0,1,0,0,1,0]);\n",
    "    state2=qt.Qobj(state2).unit();\n",
    "    state3=np.array([0,0,1,1,0,0]);\n",
    "    state3=qt.Qobj(state3).unit();\n",
    "\n",
    "    decoherence_rho=state1*qt.dag(state1)/16+state2*qt.dag(state2)*5/16+state3*qt.dag(state3)*10/16;\n",
    "    decoherence_rho=qt.mesolve(qt.spin_Jz(5/2),decoherence_rho,[0,np.pi*3/2]);\n",
    "    decoherence_rho=decoherence_rho.states[1];\n",
    "    return decoherence_rho\n",
    "\n",
    "def phase_of(rho):\n",
    "    state_up=np.array([1,0,0,0,0,0]);\n",
    "    state_down=np.array([0,0,0,0,0,1]);\n",
    "    state_up=qt.Qobj(state_up);\n",
    "    state_down=qt.Qobj(state_down);\n",
    "    \n",
    "    phase1=qt.dag(state_up)*rho*state_up;\n",
    "    phase2=qt.dag(state_down)*rho*state_down;\n",
    "    phase1=np.absolute(phase1[0,0]);\n",
    "    phase2=np.absolute(phase2[0,0])\n",
    "    phase=(phase1-phase2)/(phase1+phase2);\n",
    "    \n",
    "    return phase\n",
    "\n",
    "sigmax=qt.spin_Jx(5/2);\n",
    "sigmay=qt.spin_Jy(5/2);\n",
    "sigmaz=qt.spin_Jz(5/2);"
   ]
  },
  {
   "cell_type": "markdown",
   "id": "fb5a8b22-edaa-425f-b805-8aa0305b58ba",
   "metadata": {},
   "source": [
    "## Main"
   ]
  },
  {
   "cell_type": "code",
   "execution_count": null,
   "id": "e75751c2-7802-4e95-a114-99ce8cf8f5c5",
   "metadata": {},
   "outputs": [],
   "source": [
    "timelength=100;\n",
    "timelist=np.array(np.linspace(0,2*timelength*np.pi,10000));\n",
    "initial_rho=decoherence_rho();\n",
    "state_solve=qt.mesolve(sigmaz,initial_rho,timelist);\n",
    "final_pop=[0 for i in timelist];\n",
    "\n",
    "\n",
    "for i in range(0,len(timelist)):\n",
    "    precess_time=timelist[i];\n",
    "    final_rho=qt.mesolve(sigmax,state_solve.states[i],[0,np.pi/2])\n",
    "    final_pop[i]=phase_of(final_rho.states[1]);\n",
    "    \n",
    "%matplotlib ipympl\n",
    "\n",
    "#plt.plot(timelist,final_pop);\n",
    "f2=plt.figure();\n",
    "plt.plot(timelist/timelength*15,np.abs(fft(final_pop)));\n",
    "plt.xlim([0,10]);"
   ]
  }
 ],
 "metadata": {
  "kernelspec": {
   "display_name": "Python 3 (ipykernel)",
   "language": "python",
   "name": "python3"
  },
  "language_info": {
   "codemirror_mode": {
    "name": "ipython",
    "version": 3
   },
   "file_extension": ".py",
   "mimetype": "text/x-python",
   "name": "python",
   "nbconvert_exporter": "python",
   "pygments_lexer": "ipython3",
   "version": "3.10.8"
  }
 },
 "nbformat": 4,
 "nbformat_minor": 5
}
