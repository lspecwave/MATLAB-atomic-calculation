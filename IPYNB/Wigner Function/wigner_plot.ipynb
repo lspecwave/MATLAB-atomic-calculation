{
 "cells": [
  {
   "cell_type": "markdown",
   "id": "c155b783-6bc1-418a-8912-6081f1a7d7d7",
   "metadata": {
    "tags": []
   },
   "source": [
    "## Importation and function definition"
   ]
  },
  {
   "cell_type": "code",
   "execution_count": null,
   "id": "a234413b-e01f-46d3-b201-31315fb109bb",
   "metadata": {
    "tags": []
   },
   "outputs": [],
   "source": [
    "import qutip as qt\n",
    "import numpy as np\n",
    "import matplotlib.pyplot as plt\n",
    "from scipy.io import savemat\n",
    "\n",
    "def wigner_plot(rho,split,saveString):\n",
    "    theta_list=np.linspace(0,np.pi,split);\n",
    "    phi_list=np.linspace(0,2*np.pi,split);\n",
    "    wigner_function=qt.spin_wigner(rho,theta_list,phi_list);\n",
    "    P_matrix=wigner_function[0];theta_matrix=wigner_function[1];phi_matrix=wigner_function[2];\n",
    "    qt.plot_spin_distribution_3d(P_matrix,theta_matrix,phi_matrix,figsize=(8,6));\n",
    "    \n",
    "    mdic={\"wigner_result\":P_matrix}\n",
    "    savemat(saveString,mdic)\n",
    "    return 0\n",
    "\n",
    "def decoherence_rho():\n",
    "    state1=np.array([1,0,0,0,0,1]);\n",
    "    state1=qt.Qobj(state1).unit();\n",
    "    state2=np.array([0,1,0,0,1,0]);\n",
    "    state2=qt.Qobj(state2).unit();\n",
    "    state3=np.array([0,0,1,1,0,0]);\n",
    "    state3=qt.Qobj(state3).unit();\n",
    "\n",
    "    decoherence_rho=state1*qt.dag(state1)/16+state2*qt.dag(state2)*5/16+state3*qt.dag(state3)*10/16;\n",
    "    decoherence_rho=qt.mesolve(qt.spin_Jz(5/2),decoherence_rho,[0,np.pi*3/2]);\n",
    "    decoherence_rho=decoherence_rho.states[1];\n",
    "    return decoherence_rho\n",
    "\n",
    "sigmax=qt.spin_Jx(5/2);\n",
    "sigmay=qt.spin_Jy(5/2);\n",
    "sigmaz=qt.spin_Jz(5/2);"
   ]
  },
  {
   "cell_type": "markdown",
   "id": "2d4df583-8187-4e60-9977-faa00de34594",
   "metadata": {
    "tags": []
   },
   "source": [
    "## Cat State Bloch Sphere"
   ]
  },
  {
   "cell_type": "code",
   "execution_count": null,
   "id": "06bbbe5c-7012-4ec9-8ed4-dc4ac1af7dad",
   "metadata": {},
   "outputs": [],
   "source": [
    "initial_state=np.array([1,0,0,0,0,0]);\n",
    "initial_state=qt.Qobj(initial_state);\n",
    "initial_rho=initial_state*qt.dag(initial_state);\n",
    "\n",
    "split=200;\n",
    "\n",
    "cat_state=qt.mesolve(sigmax+sigmax**2,initial_rho,[0,np.pi/2]);\n",
    "cat_rho=cat_state.states[1]\n",
    "\n",
    "precess_state=qt.mesolve(sigmaz,cat_rho,[0,np.pi*3/5]);\n",
    "precess_rho=precess_state.states[1];\n",
    "\n",
    "detection_state=qt.mesolve(sigmax+sigmax**2,precess_rho,[0,3*np.pi/2]);\n",
    "detection_rho=detection_state.states[1]\n",
    "\n",
    "#%matplotlib ipympl\n",
    "\n",
    "\n",
    "wigner_plot(initial_rho,split,'initial.mat');\n",
    "\n",
    "\n",
    "wigner_plot(cat_rho,split,'cat.mat');\n",
    "\n",
    "\n",
    "wigner_plot(precess_rho,split,'precess_cat.mat');\n",
    "\n",
    "\n",
    "wigner_plot(detection_rho,split,'detect_cat.mat');\n"
   ]
  },
  {
   "cell_type": "markdown",
   "id": "93a76731-e3ef-44da-8d1b-d14c3c05c77f",
   "metadata": {},
   "source": [
    "## Mixed State Bloch Sphere"
   ]
  },
  {
   "cell_type": "code",
   "execution_count": null,
   "id": "ce141c40-264d-4868-851f-93414aa87402",
   "metadata": {},
   "outputs": [],
   "source": [
    "initial_state=np.array([1,0,0,0,0,0]);\n",
    "initial_state=qt.Qobj(initial_state);\n",
    "initial_rho=initial_state*qt.dag(initial_state);\n",
    "\n",
    "split=200;\n",
    "\n",
    "coherent_state=qt.mesolve(sigmax,initial_rho,[0,np.pi/2]);\n",
    "coherent_rho=coherent_state.states[1]\n",
    "\n",
    "precess_state=qt.mesolve(sigmaz,decoherence_rho(),[0,np.pi*3/5]);\n",
    "precess_rho=precess_state.states[1];\n",
    "\n",
    "detection_state=qt.mesolve(sigmax,precess_rho,[0,3*np.pi/2]);\n",
    "detection_rho=detection_state.states[1]\n",
    "\n",
    "#%matplotlib ipympl\n",
    "\n",
    "\n",
    "wigner_plot(initial_rho,split,'initial.mat');\n",
    "\n",
    "\n",
    "wigner_plot(coherent_rho,split,'coherent.mat');\n",
    "\n",
    "\n",
    "wigner_plot(precess_rho,split,'precess_mix.mat');\n",
    "\n",
    "\n",
    "wigner_plot(detection_rho,split,'detect_mix.mat');\n",
    "\n",
    "\n",
    "\n",
    "\n"
   ]
  },
  {
   "cell_type": "code",
   "execution_count": null,
   "id": "7fc7b355-cabf-4289-9d83-b10670ba831a",
   "metadata": {},
   "outputs": [],
   "source": [
    "split = 200;\n",
    "\n",
    "for mF_num in range(0,6):\n",
    "    m_state = np.array([0,0,0,0,0,0]);\n",
    "    m_state[mF_num] = 1;\n",
    "    qm_state = qt.Qobj(m_state);\n",
    "    m_rho = qm_state*qt.dag(qm_state);\n",
    "    \n",
    "    m_string = str(-mF_num*2+5)+'over2.mat';\n",
    "    wigner_plot(m_rho,split,m_string);\n"
   ]
  },
  {
   "cell_type": "code",
   "execution_count": null,
   "id": "e877f83b-4df8-47a3-8aca-7efe0dd86387",
   "metadata": {},
   "outputs": [],
   "source": [
    "split = 200;\n",
    "\n",
    "for mF_num in range(0,3):\n",
    "    m_state = np.array([0,0,0,0,0,0]);\n",
    "    \n",
    "    m_state[mF_num] = 1;\n",
    "    m_state[5-mF_num] =1;\n",
    "    qm_state = qt.Qobj(m_state).unit();\n",
    "    m_rho = qm_state*qt.dag(qm_state);\n",
    "    m_string = str(-mF_num*2+5)+'DFS.mat';\n",
    "    wigner_plot(m_rho,split,m_string);\n"
   ]
  }
 ],
 "metadata": {
  "kernelspec": {
   "display_name": "Python 3 (ipykernel)",
   "language": "python",
   "name": "python3"
  },
  "language_info": {
   "codemirror_mode": {
    "name": "ipython",
    "version": 3
   },
   "file_extension": ".py",
   "mimetype": "text/x-python",
   "name": "python",
   "nbconvert_exporter": "python",
   "pygments_lexer": "ipython3",
   "version": "3.10.8"
  },
  "toc-showcode": true
 },
 "nbformat": 4,
 "nbformat_minor": 5
}
