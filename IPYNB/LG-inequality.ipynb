{
 "cells": [
  {
   "cell_type": "markdown",
   "id": "ae970f3a-2a48-4322-81ac-db7b16ce0756",
   "metadata": {},
   "source": [
    "## Importation and Definition"
   ]
  },
  {
   "cell_type": "code",
   "execution_count": 1,
   "id": "1d82592e-bedc-42d5-a8f7-aeb4affd2df4",
   "metadata": {},
   "outputs": [],
   "source": [
    "from numpy import pi\n",
    "import numpy as np\n",
    "import qutip as qt\n",
    "import matplotlib.pyplot as plt\n",
    "\n",
    "def spin_average(state):\n",
    "    possib=qt.Qobj.diag(state)\n",
    "    result=possib[0]-possib[1]\n",
    "    return result\n",
    "\n",
    "def K_calc(t1,t2):\n",
    "    initial_state=np.array([1,0])\n",
    "    initial_state=qt.Qobj(initial_state)\n",
    "    ham=qt.spin_Jx(1/2)\n",
    "    initial_rho=initial_state*qt.dag(initial_state)\n",
    "\n",
    "    second=qt.mesolve(ham,initial_rho,[0,t1])\n",
    "\n",
    "    third_start=qt.Qobj.diag(second.states[-1])\n",
    "    third_start=qt.Qobj(np.array([[third_start[0],0],[0,third_start[1]]]))\n",
    "    \n",
    "    #third_start=second.states[-1]\n",
    "    \n",
    "    third=qt.mesolve(ham,third_start,[0,t2])\n",
    "\n",
    "    q12=spin_average(second.states[-1])\n",
    "    \n",
    "    \n",
    "    third_unperturbed_start=second.states[-1]\n",
    "    third_unperturbed=qt.mesolve(ham,third_unperturbed_start,[0,t2])\n",
    "    q13=spin_average(third_unperturbed.states[-1])\n",
    "    q23=spin_average(second.states[-1])*spin_average(third.states[-1])\n",
    "    \n",
    "    K=q12+q23-q13\n",
    "    return K"
   ]
  },
  {
   "cell_type": "code",
   "execution_count": 3,
   "id": "534a82b9-cbf6-482a-a2cb-d3e424d61ca9",
   "metadata": {},
   "outputs": [
    {
     "name": "stdout",
     "output_type": "stream",
     "text": [
      "1.1476068762757488\n"
     ]
    },
    {
     "data": {
      "image/png": "[encoded data removed]",
      "text/plain": [
       "<Figure size 640x480 with 1 Axes>"
      ]
     },
     "metadata": {},
     "output_type": "display_data"
    }
   ],
   "source": [
    "theta_list=np.linspace(0,2*pi,100)\n",
    "K=[0 for j in theta_list];\n",
    "K_max=[0 for j in theta_list];\n",
    "K_min=[0 for j in theta_list];\n",
    "for i in range(0,len(theta_list)):\n",
    "    t1=theta_list[i]\n",
    "    K[i]=K_calc(t1,t1)\n",
    "    \n",
    "plt.figure()\n",
    "plt.scatter(theta_list,K)\n",
    "\n",
    "\n",
    "print(np.amax(K))"
   ]
  }
 ],
 "metadata": {
  "kernelspec": {
   "display_name": "Python 3 (ipykernel)",
   "language": "python",
   "name": "python3"
  },
  "language_info": {
   "codemirror_mode": {
    "name": "ipython",
    "version": 3
   },
   "file_extension": ".py",
   "mimetype": "text/x-python",
   "name": "python",
   "nbconvert_exporter": "python",
   "pygments_lexer": "ipython3",
   "version": "3.10.8"
  }
 },
 "nbformat": 4,
 "nbformat_minor": 5
}
