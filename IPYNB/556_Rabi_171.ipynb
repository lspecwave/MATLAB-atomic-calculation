{
 "cells": [
  {
   "cell_type": "code",
   "execution_count": 1,
   "id": "1ce79235",
   "metadata": {},
   "outputs": [],
   "source": [
    "# Rabi Frequency #\n",
    "# Yb-171 #\n",
    "\n",
    "\n",
    "from qutip import*\n",
    "from numpy import*\n",
    "import matplotlib.pyplot as plt\n",
    "import scipy.constants as C\n"
   ]
  },
  {
   "cell_type": "code",
   "execution_count": 2,
   "id": "51f97381",
   "metadata": {},
   "outputs": [],
   "source": [
    "#定义参数#\n",
    "\n",
    "\n",
    "hbar = C.h/(2*pi)\n",
    "epsilon_0 = 8.854e-12 #真空介电常数\n",
    "alpha_s_F = -2.4158956e-35\n",
    "alpha_v_F = -2.2456734e-35\n",
    "alpha_T_F = 0.00000\n",
    "P = 0.3 #光功率(mW)\n",
    "#d = 360 #光斑直径(um)\n",
    "omega_0 = 150 #高斯光束腰半径(um)\n",
    "#detune = 300 #失谐(MHz)\n",
    "A = 1 #圆偏度\n",
    "cos_theta_k = 1 # angle between the wave vector and the z-axis\n",
    "F = 1/2\n",
    "M = [-1/2,1/2]\n",
    "\n",
    "#导出参数#\n",
    "I_0 = P*1e-3*2/(C.c*pi*(omega_0*1e-6)**2) #中心光功率密度\n",
    "epsilon_square = I_0*2/epsilon_0 #电矢量模平方\n"
   ]
  },
  {
   "cell_type": "code",
   "execution_count": 3,
   "id": "3f7e112a",
   "metadata": {},
   "outputs": [
    {
     "name": "stdout",
     "output_type": "stream",
     "text": [
      "a.c. stark shift for M = -0.5 is\n",
      "\n",
      "\t2.373295e+02 kHz\n",
      "a.c. stark shift for M = 0.5 is\n",
      "\n",
      "\t6.606483e+02 kHz\n",
      "\n",
      "Rabi frequency is 4.233188e+02 kHz\n"
     ]
    }
   ],
   "source": [
    "# a.c.stark shift #\n",
    "\n",
    "\n",
    "delta_energy = zeros(len(M))\n",
    "delta_freq = zeros(len(M))\n",
    "for M_num in range(len(M)):\n",
    "    delta_energy[M_num] = -(1/4)*epsilon_square*(alpha_s_F+A*cos_theta_k*(M[M_num]/(2*F))*alpha_v_F)\n",
    "    delta_freq[M_num] = delta_energy[M_num]/(hbar*1e3) # (kHz)\n",
    "    print('a.c. stark shift for M = %.1f is\\n'%M[M_num])\n",
    "    print('\\t%e kHz'%delta_freq[M_num])\n",
    "\n",
    "delta_Freq = delta_freq[1]-delta_freq[0]\n",
    "print('\\nRabi frequency is %e kHz'%delta_Freq)"
   ]
  },
  {
   "cell_type": "code",
   "execution_count": null,
   "id": "d31ce5d4",
   "metadata": {},
   "outputs": [],
   "source": []
  }
 ],
 "metadata": {
  "kernelspec": {
   "display_name": "Python 3 (ipykernel)",
   "language": "python",
   "name": "python3"
  },
  "language_info": {
   "codemirror_mode": {
    "name": "ipython",
    "version": 3
   },
   "file_extension": ".py",
   "mimetype": "text/x-python",
   "name": "python",
   "nbconvert_exporter": "python",
   "pygments_lexer": "ipython3",
   "version": "3.10.8"
  }
 },
 "nbformat": 4,
 "nbformat_minor": 5
}
