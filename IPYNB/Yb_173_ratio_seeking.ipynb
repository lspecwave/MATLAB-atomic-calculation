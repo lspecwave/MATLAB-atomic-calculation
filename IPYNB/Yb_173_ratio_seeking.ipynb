{
 "cells": [
  {
   "cell_type": "code",
   "execution_count": null,
   "id": "eb76c6d1",
   "metadata": {},
   "outputs": [],
   "source": [
    "# Yb-173 #\n",
    "\n",
    "\n",
    "from sympy.physics.wigner import wigner_3j\n",
    "from sympy.physics.wigner import wigner_6j\n",
    "from numpy import*\n",
    "from qutip import*\n",
    "import scipy.constants as C\n",
    "import matplotlib.pyplot as plt\n"
   ]
  },
  {
   "cell_type": "code",
   "execution_count": null,
   "id": "09dc70f5",
   "metadata": {},
   "outputs": [],
   "source": [
    "# 定义常数 #\n",
    "\n",
    "\n",
    "i = 0+1j # 虚数单位\n",
    "hbar = C.h/(2*pi) # 约化普朗克常数\n",
    "epsilon_0 = 8.854e-12 # 真空介电常数\n",
    "\n",
    "F = 5/2\n",
    "M = [5/2,3/2,1/2,-1/2,-3/2,-5/2]\n",
    "\n",
    "u = array([0,1/sqrt(2),i/sqrt(2)]) # polarization vector\n",
    "K = [0,1,2]\n",
    "\n",
    "P = 0.3 # 光功率(mW)\n",
    "omega_0 = 150 # (um)\n",
    "I_0 = P*1e-3*2/(C.c*pi*(omega_0*1e-6)**2) # 中心光功率密度\n",
    "epsilon_square = I_0*2/epsilon_0 # 电矢量模平方\n"
   ]
  },
  {
   "cell_type": "code",
   "execution_count": null,
   "id": "1a707296",
   "metadata": {},
   "outputs": [],
   "source": [
    "# a*sigmax+b*sigmax^2 #\n",
    "# tensor_x + tensor_y + tensor_z = F*(F+1)I #\n",
    "\n",
    "\n",
    "print('sigmax:')\n",
    "vector_x = spin_Jx(F)\n",
    "print(vector_x)\n",
    "print('\\nsigmax^2:')\n",
    "tensor_x = (spin_Jx(F)**2)\n",
    "print(tensor_x)\n",
    "print('\\n')\n",
    "\n",
    "vector_y = spin_Jy(F)\n",
    "tensor_y = (spin_Jy(F)**2)\n",
    "\n",
    "vector_z = spin_Jz(F)\n",
    "tensor_z = (spin_Jz(F)**2)\n",
    "\n"
   ]
  },
  {
   "cell_type": "code",
   "execution_count": null,
   "id": "b3aa4484",
   "metadata": {},
   "outputs": [],
   "source": [
    "# 定义函数计算态演化 #\n",
    "\n",
    "\n",
    "def Solve_Ham(H,in_sta,tlist):\n",
    "\n",
    "    t_sta = sesolve(H,in_sta,tlist)\n",
    "    \n",
    "    return t_sta\n"
   ]
  },
  {
   "cell_type": "code",
   "execution_count": null,
   "id": "3dd03679",
   "metadata": {},
   "outputs": [],
   "source": [
    "# Hamiltonian #\n",
    "# Ham = para_v*sigmax+para_T*sigmax^2 #\n",
    "\n",
    "\n",
    "tau = 3*pi # 进动时长(s)\n",
    "step = 5000 # 计算步数\n",
    "tlist = linspace(0,tau,step) # list of times for which the solver should store the state vector\n",
    "\n",
    "in_state = basis(int(2*F+1),0)\n",
    "\n",
    "\n",
    "# 自变量输入 #\n",
    "para_v = -1  # 6n+3\n",
    "para_T = 1  # 2m+1\n",
    "\n",
    "#Ham = para_v*vector_x+para_T*tensor_x\n",
    "HamStan = vector_x-tensor_x\n",
    "Ham = 1*para_v*vector_x+para_T*tensor_x + 1*0.11*(+0*vector_y-0.0*tensor_y) + 1*0.11*(+0.0*vector_z-0.3*tensor_z)\n",
    "print('Hamiltonian:')\n",
    "print(Ham)\n",
    "t_state = Solve_Ham(Ham,in_state,tlist)\n",
    "t_res = Solve_Ham(HamStan,in_state,tlist)\n"
   ]
  },
  {
   "cell_type": "code",
   "execution_count": null,
   "id": "8d3dea05",
   "metadata": {},
   "outputs": [],
   "source": [
    "# 布居数随时间演化 #\n",
    "\n",
    "\n",
    "abs_t_state = absolute(t_state.states)**2\n",
    "abs_t_resonance = absolute(t_res.states)**2\n",
    "\n",
    "plt.figure(figsize=(16,6))\n",
    "\n",
    "for ele_num in range(int(2*F+1)):\n",
    "        \n",
    "    str1 = str(5-ele_num*2)\n",
    "    str2 = '/2'\n",
    "    plt.plot(tlist/pi,abs_t_state[:,ele_num],label = str1+str2)\n",
    "    plt.legend()\n",
    "\n",
    "plt.xlabel('Time(π)')\n",
    "plt.ylabel('Population')\n",
    "plt.title('Rabi Oscillation')\n",
    "plt.show\n",
    "\n",
    "plt.figure(figsize=(16,6))\n",
    "plt.plot(tlist/pi,abs_t_state[:,5],label = 'detuning')\n",
    "plt.plot(tlist/pi,abs_t_resonance[:,5],label = 'resonance')\n",
    "plt.legend()\n",
    "plt.xlabel('Time(π)')\n",
    "plt.ylabel('5/2 Population')\n",
    "plt.title('Rabi Oscillation')\n",
    "plt.show\n"
   ]
  }
 ],
 "metadata": {
  "kernelspec": {
   "display_name": "Python 3 (ipykernel)",
   "language": "python",
   "name": "python3"
  },
  "language_info": {
   "codemirror_mode": {
    "name": "ipython",
    "version": 3
   },
   "file_extension": ".py",
   "mimetype": "text/x-python",
   "name": "python",
   "nbconvert_exporter": "python",
   "pygments_lexer": "ipython3",
   "version": "3.10.8"
  }
 },
 "nbformat": 4,
 "nbformat_minor": 5
}
