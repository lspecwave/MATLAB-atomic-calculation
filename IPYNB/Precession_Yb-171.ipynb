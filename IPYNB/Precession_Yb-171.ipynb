{
 "cells": [
  {
   "cell_type": "code",
   "execution_count": 1,
   "id": "cdaa90bf",
   "metadata": {},
   "outputs": [],
   "source": [
    "#Yb-171#\n",
    "\n",
    "\n",
    "from qutip import*\n",
    "from numpy import*\n",
    "from sympy.physics.wigner import wigner_3j\n",
    "import scipy.constants as C\n",
    "import matplotlib.pyplot as plt\n"
   ]
  },
  {
   "cell_type": "code",
   "execution_count": 2,
   "id": "614367bd",
   "metadata": {},
   "outputs": [],
   "source": [
    "#定义常数#\n",
    "\n",
    "\n",
    "i = 0+1j # 虚数单位\n",
    "hbar = C.h/(2*pi) # 约化普朗克常数\n",
    "epsilon_0 = 8.854e-12 # 真空介电常数\n",
    "\n",
    "alpha_K = [-7.3141335e-35,4.8761815e-35,0] # reduced polarizability\n",
    "alpha_s_F = -2.9859825e-35\n",
    "alpha_v_F = -2.8152647e-35\n",
    "F = 1/2\n",
    "M = [1/2,-1/2]\n",
    "\n",
    "u = array([0,-1/sqrt(2),i/sqrt(2)]) # polarization vector\n",
    "K = [0,1,2]\n",
    "\n",
    "P = 4 # 光功率(mW)\n",
    "omega_0 = 550 # (um)\n",
    "I_0 = P*1e-3*2/(C.c*pi*(omega_0*1e-6)**2) # 中心光功率密度\n",
    "epsilon_square = I_0*2/epsilon_0 # 电矢量模平方\n"
   ]
  },
  {
   "cell_type": "code",
   "execution_count": 3,
   "id": "7a41cfd6",
   "metadata": {},
   "outputs": [],
   "source": [
    "#spherical tensor components of the polarization vector u#\n",
    "\n",
    "\n",
    "def Spherical_Ten(u,miu):\n",
    "    \n",
    "    if miu == -1:\n",
    "        u_miu = (u[0]-u[1]*i)/sqrt(2)\n",
    "    elif miu == 0:\n",
    "        u_miu = u[2]\n",
    "    elif miu == 1:\n",
    "        u_miu = -(u[0]+u[1]*i)/sqrt(2)\n",
    "    else:\n",
    "        print('input error!\\n')\n",
    "        return\n",
    "    return u_miu\n"
   ]
  },
  {
   "cell_type": "code",
   "execution_count": 4,
   "id": "8c052f55",
   "metadata": {},
   "outputs": [],
   "source": [
    "#compound tensor components#\n",
    "#u should be nomalizied#\n",
    "\n",
    "\n",
    "def Compound_Ten_K_q(u,K,q):\n",
    "    \n",
    "    compound_ten = 0\n",
    "    for miu1 in range(-1,2):\n",
    "        for miu2 in range(-1,2):\n",
    "            u_miu1 = Spherical_Ten(u,miu1)\n",
    "            u_negamiu2 = Spherical_Ten(u,-miu2)\n",
    "            u_negamiu2_star = u_negamiu2.conjugate()\n",
    "            cplex = (-1)**(q+miu2)*u_miu1*u_negamiu2_star*sqrt(2*K+1)*wigner_3j(1,K,1,miu1,-q,miu2)\n",
    "            compound_ten = compound_ten+cplex\n",
    "    return compound_ten\n"
   ]
  },
  {
   "cell_type": "code",
   "execution_count": 5,
   "id": "d7f70cbf",
   "metadata": {},
   "outputs": [],
   "source": [
    "#构造哈密顿量和初态#\n",
    "\n",
    "\n",
    "#Hamiltonian#\n",
    "def Hamiltonian(u,K):\n",
    "    \n",
    "    H = array([[0,0],[0,0]],dtype=float64) # 初始化\n",
    "    \n",
    "    # 哈密顿量矩阵元\n",
    "    for M1_num in range(len(M)):\n",
    "        for M2_num in range(len(M)):\n",
    "            H_M1_num_M2_num = 0\n",
    "            for K_num in range(len(K)):\n",
    "                q = zeros(2*len(K)+1)\n",
    "                for q_num in range(len(q)):\n",
    "                    q[q_num] = -K[K_num]+q_num\n",
    "                    com_ten_K_q = Compound_Ten_K_q(u,K[K_num],q[q_num]) # compound tensor component\n",
    "                    H_M1_num_M2_num = H_M1_num_M2_num+(-1)**(K[K_num]+q[q_num])*com_ten_K_q\\\n",
    "                    *(-1)**(F-M[M1_num])*wigner_3j(F,K[K_num],F,-M[M1_num],-q[q_num],M[M2_num])\\\n",
    "                    *alpha_K[K_num]\n",
    "                    \n",
    "            H[M1_num,M2_num] = H_M1_num_M2_num*(epsilon_square/4)/C.h\n",
    "            \n",
    "    return H\n",
    "\n",
    "#initial state,|+1/2>#\n",
    "in_state = basis(2,0)\n"
   ]
  },
  {
   "cell_type": "code",
   "execution_count": 6,
   "id": "5c594c08",
   "metadata": {},
   "outputs": [],
   "source": [
    "#定义基矢#\n",
    "\n",
    "\n",
    "def Basis_Ham():\n",
    "    \n",
    "    # [[1,0],[0,0]]\n",
    "    H1 = (1/2)*(sigmaz()+sigmaz()*sigmaz())\n",
    "    # [[0,1],[0,0]]\n",
    "    H2 = (1/2)*(sigmax()+i*sigmay())\n",
    "    # [[0,0],[1,0]]\n",
    "    H3 = (1/2)*(sigmax()-i*sigmay())\n",
    "    # [[0,0],[0,1]]\n",
    "    H4 = (1/2)*(-sigmaz()+sigmaz()*sigmaz())\n",
    "    return H1,H2,H3,H4\n",
    "    "
   ]
  },
  {
   "cell_type": "code",
   "execution_count": 7,
   "id": "efdc227d",
   "metadata": {},
   "outputs": [],
   "source": [
    "#定义函数计算态演化#\n",
    "\n",
    "\n",
    "def Solve_Ham(H,in_sta,tlist):\n",
    "    \n",
    "    #基矢定义#\n",
    "    H1,H2,H3,H4 = Basis_Ham()\n",
    "    \n",
    "    Ham = H[0][0]*H1+H[0][1]*H2+H[1][0]*H3+H[1][1]*H4\n",
    "    t_sta1 = sesolve(Ham,in_sta,tlist)\n",
    "    t_sta2 = sesolve(Ham,in_sta,tlist,[sigmaz()])\n",
    "    return t_sta1,t_sta2.expect\n"
   ]
  },
  {
   "cell_type": "code",
   "execution_count": 11,
   "id": "25755106",
   "metadata": {},
   "outputs": [
    {
     "name": "stdout",
     "output_type": "stream",
     "text": [
      "Hamiltonian:\n",
      "[[ 71458.80469684 -33686.64261199]\n",
      " [-33686.64261199  71458.80469684]]\n",
      "\n",
      "eigenvalue:\n",
      "[105145.44730883  37772.16208485]\n",
      "\n",
      "diff:\n",
      "67373.28522397997\n",
      "\n",
      "state:\n",
      "Quantum object: dims = [[2], [1]], shape = (2, 1), type = ket\n",
      "Qobj data =\n",
      "[[-9.28284375e-01+3.71871103e-01j]\n",
      " [-3.70486817e-05+1.69894194e-05j]]\n"
     ]
    }
   ],
   "source": [
    "#计算态演化#\n",
    "\n",
    "\n",
    "tau = 3.710685*4 # 进动时长(us)\n",
    "step = 200 # 计算步数\n",
    "tlist = linspace(0,tau*1e-6,step) # list of times for which the solver should store the state vector\n",
    "\n",
    "Ham = Hamiltonian(u,K) # Hamiltonian\n",
    "print('Hamiltonian:')\n",
    "print(Ham)\n",
    "eigenvalue,featurevector = linalg.eig(Ham) # eigenvalue of the Hamiltonian\n",
    "print('\\neigenvalue:')\n",
    "print(eigenvalue)\n",
    "print('\\ndiff:')\n",
    "print(eigenvalue[0]-eigenvalue[1])\n",
    "\n",
    "t_state,t_state_expect = Solve_Ham(2*pi*Ham,in_state,tlist) # the state at t, qutip哈密顿量需乘以2*pi\n",
    "#tran_t_state = transpose(t_state.states)\n",
    "print('\\nstate:')\n",
    "print(t_state.states[-1])\n"
   ]
  },
  {
   "cell_type": "code",
   "execution_count": 12,
   "id": "5103374f",
   "metadata": {},
   "outputs": [
    {
     "data": {
      "text/plain": [
       "<function matplotlib.pyplot.show(close=None, block=None)>"
      ]
     },
     "execution_count": 12,
     "metadata": {},
     "output_type": "execute_result"
    },
    {
     "data": {
      "image/png": "[encoded data removed]",
      "text/plain": [
       "<Figure size 1152x432 with 1 Axes>"
      ]
     },
     "metadata": {
      "needs_background": "light"
     },
     "output_type": "display_data"
    }
   ],
   "source": [
    "#布居数随时间演化#\n",
    "\n",
    "\n",
    "t_ele = zeros((int(2*F+1),len(tlist)))\n",
    "\n",
    "plt.figure(figsize=(16,6))\n",
    "for ele_num in range(int(2*F+1)):\n",
    "    \n",
    "    for t_num in range(len(tlist)):\n",
    "        t_ele[ele_num,t_num] = abs(t_state.states[t_num][ele_num])**2\n",
    "        \n",
    "    str1 = str(1-ele_num*2)\n",
    "    str2 = '/2'\n",
    "    plt.plot(tlist*1e6,t_ele[ele_num,:],label = str1+str2)\n",
    "    plt.legend()\n",
    "\n",
    "#plt.plot(tlist*1e6,t_state.states[:,1])\n",
    "plt.xlabel('time(us)')\n",
    "plt.ylabel('expectation value(z)')\n",
    "plt.title('Rabi oscillation')\n",
    "plt.show\n"
   ]
  },
  {
   "cell_type": "code",
   "execution_count": 10,
   "id": "dbe59943",
   "metadata": {},
   "outputs": [
    {
     "name": "stderr",
     "output_type": "stream",
     "text": [
      "C:\\Users\\ZHANGJ~1\\AppData\\Local\\Temp/ipykernel_4056/2773888588.py:20: VisibleDeprecationWarning: Creating an ndarray from ragged nested sequences (which is a list-or-tuple of lists-or-tuples-or ndarrays with different lengths or shapes) is deprecated. If you meant to do this, you must specify 'dtype=object' when creating the ndarray.\n",
      "  t_state_deco = t_state_deco+t_state_deco_num\n"
     ]
    },
    {
     "ename": "ValueError",
     "evalue": "operands could not be broadcast together with shapes (200,) (2,) ",
     "output_type": "error",
     "traceback": [
      "\u001b[1;31m---------------------------------------------------------------------------\u001b[0m",
      "\u001b[1;31mValueError\u001b[0m                                Traceback (most recent call last)",
      "\u001b[1;32mC:\\Users\\ZHANGJ~1\\AppData\\Local\\Temp/ipykernel_4056/2773888588.py\u001b[0m in \u001b[0;36m<module>\u001b[1;34m\u001b[0m\n\u001b[0;32m     18\u001b[0m     \u001b[0mH\u001b[0m \u001b[1;33m=\u001b[0m \u001b[0msample\u001b[0m\u001b[1;33m[\u001b[0m\u001b[0msample_num\u001b[0m\u001b[1;33m]\u001b[0m\u001b[1;33m*\u001b[0m\u001b[0mHamiltonian\u001b[0m\u001b[1;33m(\u001b[0m\u001b[0mu\u001b[0m\u001b[1;33m,\u001b[0m\u001b[0mK\u001b[0m\u001b[1;33m)\u001b[0m\u001b[1;33m\u001b[0m\u001b[1;33m\u001b[0m\u001b[0m\n\u001b[0;32m     19\u001b[0m     \u001b[0mt_state_deco_num\u001b[0m \u001b[1;33m=\u001b[0m \u001b[0mSolve_Ham\u001b[0m\u001b[1;33m(\u001b[0m\u001b[0mH\u001b[0m\u001b[1;33m,\u001b[0m\u001b[0min_state_deco\u001b[0m\u001b[1;33m,\u001b[0m\u001b[0mtlist_deco\u001b[0m\u001b[1;33m)\u001b[0m\u001b[1;33m\u001b[0m\u001b[1;33m\u001b[0m\u001b[0m\n\u001b[1;32m---> 20\u001b[1;33m     \u001b[0mt_state_deco\u001b[0m \u001b[1;33m=\u001b[0m \u001b[0mt_state_deco\u001b[0m\u001b[1;33m+\u001b[0m\u001b[0mt_state_deco_num\u001b[0m\u001b[1;33m\u001b[0m\u001b[1;33m\u001b[0m\u001b[0m\n\u001b[0m\u001b[0;32m     21\u001b[0m \u001b[1;33m\u001b[0m\u001b[0m\n\u001b[0;32m     22\u001b[0m \u001b[0mt_state_deco\u001b[0m \u001b[1;33m=\u001b[0m \u001b[0mt_state_deco\u001b[0m\u001b[1;33m/\u001b[0m\u001b[0msize\u001b[0m\u001b[1;33m\u001b[0m\u001b[1;33m\u001b[0m\u001b[0m\n",
      "\u001b[1;31mValueError\u001b[0m: operands could not be broadcast together with shapes (200,) (2,) "
     ]
    }
   ],
   "source": [
    "#考虑decohenrence#\n",
    "\n",
    "\n",
    "#Gaussian Sampling#\n",
    "\n",
    "loc = 1 # 均值\n",
    "scale = 0.1 # 标准差\n",
    "size = 100 # 抽样数\n",
    "sample = random.normal(loc,scale,size)\n",
    "in_state_deco = basis(2,0)\n",
    "\n",
    "tau_deco = 500 # 进动时长(us)\n",
    "step_deco = 1000 # 计算步数\n",
    "tlist_deco = linspace(0,tau_deco*1e-6,step) # list of times for which the solver should store the state vector\n",
    "\n",
    "t_state_deco = zeros(len(tlist_deco))\n",
    "for sample_num in range(len(sample)):\n",
    "    H = sample[sample_num]*Hamiltonian(u,K)\n",
    "    t_state_deco_num = Solve_Ham(H,in_state_deco,tlist_deco)\n",
    "    t_state_deco = t_state_deco+t_state_deco_num\n",
    "\n",
    "t_state_deco = t_state_deco/size\n",
    "tran_t_state_deco = transpose(t_state_deco)\n"
   ]
  },
  {
   "cell_type": "code",
   "execution_count": null,
   "id": "704dcc77",
   "metadata": {},
   "outputs": [],
   "source": [
    "\n",
    "plt.figure(figsize=(16,6))\n",
    "plt.plot(tlist_deco*1e6,tran_t_state_deco)\n",
    "plt.xlabel('time(us)')\n",
    "plt.ylabel('expectation value(z)')\n",
    "plt.title('decohenrence Rabi oscillation')\n",
    "plt.show\n"
   ]
  },
  {
   "cell_type": "code",
   "execution_count": null,
   "id": "573898d2",
   "metadata": {},
   "outputs": [],
   "source": [
    "#相位随时间累加#\n",
    "\n",
    "def Solve_Phase_Evolution(H,in_state,tlist):\n",
    "    \n",
    "    \n",
    "    for t_num in range(len(tlist)):\n",
    "        H = [H,sam]\n",
    "        "
   ]
  }
 ],
 "metadata": {
  "kernelspec": {
   "display_name": "Python 3 (ipykernel)",
   "language": "python",
   "name": "python3"
  },
  "language_info": {
   "codemirror_mode": {
    "name": "ipython",
    "version": 3
   },
   "file_extension": ".py",
   "mimetype": "text/x-python",
   "name": "python",
   "nbconvert_exporter": "python",
   "pygments_lexer": "ipython3",
   "version": "3.9.7"
  }
 },
 "nbformat": 4,
 "nbformat_minor": 5
}
