{
 "cells": [
  {
   "cell_type": "code",
   "execution_count": 25,
   "id": "3298e2b2-1adc-43fb-a6f1-72a5789355a8",
   "metadata": {},
   "outputs": [],
   "source": [
    "import numpy as np"
   ]
  },
  {
   "cell_type": "code",
   "execution_count": 26,
   "id": "65f6fe81-2266-4b1d-8c03-9ff004087040",
   "metadata": {},
   "outputs": [
    {
     "data": {
      "text/plain": [
       "0.0993871617944692"
      ]
     },
     "execution_count": 26,
     "metadata": {},
     "output_type": "execute_result"
    }
   ],
   "source": [
    "population_up=0.01\n",
    "\n",
    "atom_num=10000\n",
    "test_num=100000\n",
    "simulation_result_up=[0 for i in range(0,test_num)]\n",
    "\n",
    "for i in range(0,test_num):\n",
    "    simulation_result_up[i]=np.random.binomial(atom_num,population_up)/atom_num\n",
    "\n",
    "np.std(simulation_result_up)*np.sqrt(atom_num)"
   ]
  },
  {
   "cell_type": "markdown",
   "id": "a645ce5f-6cd8-46af-b7b1-1fe9674e8992",
   "metadata": {},
   "source": [
    "单原子单次实验population不确定度$=\\sqrt{p(1-p)}$"
   ]
  },
  {
   "cell_type": "code",
   "execution_count": 27,
   "id": "bda63b57-1323-4932-88c5-e9fa43acbf3d",
   "metadata": {},
   "outputs": [
    {
     "data": {
      "text/plain": [
       "0.099498743710662"
      ]
     },
     "execution_count": 27,
     "metadata": {},
     "output_type": "execute_result"
    }
   ],
   "source": [
    "np.sqrt(population_up*(1-population_up))"
   ]
  },
  {
   "cell_type": "markdown",
   "id": "ecc6ab94-9f66-43ab-b21a-ca902fd716c0",
   "metadata": {},
   "source": [
    "如果实验达到了shot noise limit，在slope=0的地方也能做实验！！\n",
    "\n",
    "实际上对于实验，比如EDM，$\\sigma_{\\phi}=\\sqrt{\\dfrac 1N+\\sigma_{\\phi}^2(B)}= \\sqrt{\\dfrac{p(1-p)\\big/(\\dfrac{\\partial p}{\\partial \\phi})^2}{N}+\\sigma_{\\phi}(B)}=\\sqrt{\\dfrac{1}{F_{\\phi}N}+\\sigma_{\\phi}(B)}\\geq\\sigma_{\\phi}(B)$"
   ]
  },
  {
   "cell_type": "code",
   "execution_count": null,
   "id": "d4d1c843-be29-46b9-b7cc-1ff4c2f89790",
   "metadata": {},
   "outputs": [],
   "source": []
  }
 ],
 "metadata": {
  "kernelspec": {
   "display_name": "Python 3 (ipykernel)",
   "language": "python",
   "name": "python3"
  },
  "language_info": {
   "codemirror_mode": {
    "name": "ipython",
    "version": 3
   },
   "file_extension": ".py",
   "mimetype": "text/x-python",
   "name": "python",
   "nbconvert_exporter": "python",
   "pygments_lexer": "ipython3",
   "version": "3.10.8"
  }
 },
 "nbformat": 4,
 "nbformat_minor": 5
}
