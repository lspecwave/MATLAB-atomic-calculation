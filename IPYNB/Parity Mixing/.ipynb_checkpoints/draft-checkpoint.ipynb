{
 "cells": [
  {
   "cell_type": "code",
   "execution_count": 2,
   "id": "106fcaf3",
   "metadata": {},
   "outputs": [],
   "source": [
    "# Yb-171 #\n",
    "\n",
    "\n",
    "from sympy.physics.wigner import wigner_3j\n",
    "from sympy.physics.wigner import wigner_6j\n",
    "from numpy import*\n",
    "import matplotlib.pyplot as plt\n",
    "import scipy.constants as C\n"
   ]
  },
  {
   "cell_type": "code",
   "execution_count": 4,
   "id": "c1738087",
   "metadata": {},
   "outputs": [],
   "source": [
    "# 定义常数 #\n",
    "\n",
    "\n",
    "hbar = C.h/(2*pi)  # 约化普朗克常数\n",
    "uB = 9.27400949e-24  # 玻尔磁子\n",
    "a0 = 5.2917721067e-11  # 玻尔半径\n",
    "K = [0,1,2]\n",
    "n = 6\n",
    "I = 1/2  # Yb-171\n",
    "J = [0,1]\n",
    "F1 = 1/2  #|1S_0>\n",
    "F2 = [1/2,3/2]  # upper states\n",
    "\n",
    "# first term: 399 Shift #\n",
    "# second term: 556 Shift #\n",
    "gamma = [29.13e6,183.8e3]  # 自然线宽(Hz)\n",
    "freq_ref = 539390.405-4759.440e-3  # Yb-176(GHz)\n",
    "freq = [freq_ref+4762.110e-3,freq_ref+3266.243e-3,freq_ref-1431.872e-3]  # (GHz)!!!\n",
    "product_J = [4.15*a0,0.54*a0]  # 跃迁矩阵元\n"
   ]
  },
  {
   "cell_type": "code",
   "execution_count": null,
   "id": "382b8ba4",
   "metadata": {},
   "outputs": [],
   "source": []
  }
 ],
 "metadata": {
  "kernelspec": {
   "display_name": "Python 3 (ipykernel)",
   "language": "python",
   "name": "python3"
  },
  "language_info": {
   "codemirror_mode": {
    "name": "ipython",
    "version": 3
   },
   "file_extension": ".py",
   "mimetype": "text/x-python",
   "name": "python",
   "nbconvert_exporter": "python",
   "pygments_lexer": "ipython3",
   "version": "3.9.7"
  }
 },
 "nbformat": 4,
 "nbformat_minor": 5
}
