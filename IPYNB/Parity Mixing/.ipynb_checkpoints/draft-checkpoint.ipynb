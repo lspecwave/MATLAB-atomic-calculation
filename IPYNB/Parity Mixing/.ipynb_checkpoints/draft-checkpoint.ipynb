{
 "cells": [
  {
   "cell_type": "code",
   "execution_count": null,
   "id": "106fcaf3",
   "metadata": {},
   "outputs": [],
   "source": [
    "# Yb-171 #\n",
    "\n",
    "\n",
    "from sympy.physics.wigner import wigner_3j\n",
    "from sympy.physics.wigner import wigner_6j\n",
    "from numpy import*\n",
    "import matplotlib.pyplot as plt\n",
    "import scipy.constants as C\n"
   ]
  },
  {
   "cell_type": "code",
   "execution_count": null,
   "id": "c1738087",
   "metadata": {},
   "outputs": [],
   "source": [
    "3*(2==2)"
   ]
  },
  {
   "cell_type": "code",
   "execution_count": null,
   "id": "382b8ba4",
   "metadata": {},
   "outputs": [],
   "source": [
    "a = array([[2,4],[6,8]])\n",
    "b = a[:,0]\n",
    "c = zeros((2,3,4,2))\n",
    "d = [2,5]\n",
    "c[:,0,0,0] = d\n",
    "c"
   ]
  },
  {
   "cell_type": "code",
   "execution_count": null,
   "id": "caf0b334",
   "metadata": {},
   "outputs": [],
   "source": []
  }
 ],
 "metadata": {
  "kernelspec": {
   "display_name": "Python 3 (ipykernel)",
   "language": "python",
   "name": "python3"
  },
  "language_info": {
   "codemirror_mode": {
    "name": "ipython",
    "version": 3
   },
   "file_extension": ".py",
   "mimetype": "text/x-python",
   "name": "python",
   "nbconvert_exporter": "python",
   "pygments_lexer": "ipython3",
   "version": "3.10.8"
  }
 },
 "nbformat": 4,
 "nbformat_minor": 5
}
