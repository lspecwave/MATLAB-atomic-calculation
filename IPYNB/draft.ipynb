{
 "cells": [
  {
   "cell_type": "code",
   "execution_count": 1,
   "id": "7066ba64",
   "metadata": {},
   "outputs": [
    {
     "data": {
      "text/plain": [
       "array([2, 4, 6])"
      ]
     },
     "execution_count": 1,
     "metadata": {},
     "output_type": "execute_result"
    }
   ],
   "source": [
    "from numpy import *\n",
    "a=[[0,1,2],[2,3,4]]\n",
    "\n",
    "sum(a,0)"
   ]
  },
  {
   "cell_type": "code",
   "execution_count": 2,
   "id": "890033d8",
   "metadata": {},
   "outputs": [
    {
     "data": {
      "text/plain": [
       "6"
      ]
     },
     "execution_count": 2,
     "metadata": {},
     "output_type": "execute_result"
    }
   ],
   "source": [
    "from numpy import *\n",
    "#help(sum)\n",
    "a = array([[1,2,3],[4,5,6]])\n",
    "b = sum(a[0,:])\n",
    "b"
   ]
  },
  {
   "cell_type": "code",
   "execution_count": 3,
   "id": "b3b68b74",
   "metadata": {},
   "outputs": [
    {
     "data": {
      "text/plain": [
       "Text(0.5, 1.0, \"('ddddd', 3)\")"
      ]
     },
     "execution_count": 3,
     "metadata": {},
     "output_type": "execute_result"
    },
    {
     "data": {
      "image/png": "[encoded data removed]",
      "text/plain": [
       "<Figure size 432x288 with 2 Axes>"
      ]
     },
     "metadata": {
      "needs_background": "light"
     },
     "output_type": "display_data"
    }
   ],
   "source": [
    "import matplotlib.pyplot as plt\n",
    "plt.figure(1)\n",
    "ax1 = plt.subplot(131)\n",
    "#ax2 = plt.subplot(132)\n",
    "ax3 = plt.subplot(133)\n",
    "a = 'ddddd'\n",
    "n = 3\n",
    "plt.title(eval('a,n'))\n"
   ]
  },
  {
   "cell_type": "code",
   "execution_count": 3,
   "id": "2d2708fe",
   "metadata": {},
   "outputs": [
    {
     "name": "stdout",
     "output_type": "stream",
     "text": [
      "Quantum object: dims = [[6], [6]], shape = (6, 6), type = oper, isherm = True\n",
      "Qobj data =\n",
      "[[ 2.5  0.   0.   0.   0.   0. ]\n",
      " [ 0.   1.5  0.   0.   0.   0. ]\n",
      " [ 0.   0.   0.5  0.   0.   0. ]\n",
      " [ 0.   0.   0.  -0.5  0.   0. ]\n",
      " [ 0.   0.   0.   0.  -1.5  0. ]\n",
      " [ 0.   0.   0.   0.   0.  -2.5]]\n",
      "Quantum object: dims = [[6], [6]], shape = (6, 6), type = oper, isherm = True\n",
      "Qobj data =\n",
      "[[0.         1.11803399 0.         0.         0.         0.        ]\n",
      " [1.11803399 0.         1.41421356 0.         0.         0.        ]\n",
      " [0.         1.41421356 0.         1.5        0.         0.        ]\n",
      " [0.         0.         1.5        0.         1.41421356 0.        ]\n",
      " [0.         0.         0.         1.41421356 0.         1.11803399]\n",
      " [0.         0.         0.         0.         1.11803399 0.        ]]\n",
      "Quantum object: dims = [[6], [6]], shape = (6, 6), type = oper, isherm = True\n",
      "Qobj data =\n",
      "[[0.+0.j         0.-1.11803399j 0.+0.j         0.+0.j\n",
      "  0.+0.j         0.+0.j        ]\n",
      " [0.+1.11803399j 0.+0.j         0.-1.41421356j 0.+0.j\n",
      "  0.+0.j         0.+0.j        ]\n",
      " [0.+0.j         0.+1.41421356j 0.+0.j         0.-1.5j\n",
      "  0.+0.j         0.+0.j        ]\n",
      " [0.+0.j         0.+0.j         0.+1.5j        0.+0.j\n",
      "  0.-1.41421356j 0.+0.j        ]\n",
      " [0.+0.j         0.+0.j         0.+0.j         0.+1.41421356j\n",
      "  0.+0.j         0.-1.11803399j]\n",
      " [0.+0.j         0.+0.j         0.+0.j         0.+0.j\n",
      "  0.+1.11803399j 0.+0.j        ]]\n",
      "Quantum object: dims = [[6], [6]], shape = (6, 6), type = oper, isherm = True\n",
      "Qobj data =\n",
      "[[1.25       0.         1.58113883 0.         0.         0.        ]\n",
      " [0.         3.25       0.         2.12132034 0.         0.        ]\n",
      " [1.58113883 0.         4.25       0.         2.12132034 0.        ]\n",
      " [0.         2.12132034 0.         4.25       0.         1.58113883]\n",
      " [0.         0.         2.12132034 0.         3.25       0.        ]\n",
      " [0.         0.         0.         1.58113883 0.         1.25      ]]\n"
     ]
    }
   ],
   "source": [
    "%matplotlib inline\n",
    "from qutip import*\n",
    "from numpy import*\n",
    "import matplotlib.pyplot as plt\n",
    "from typing import List\n",
    "a = basis(2,0)\n",
    "H = sigmax()\n",
    "#tlist = linspace(0,5,20)\n",
    "#b = mesolve(H,a,tlist)\n",
    "#print(b.states[-1])\n",
    "#c = b.states[-1]*(conjugate(transpose(b.states[-1])))\n",
    "#c = array([[1+1j,1+2j],[1+3j,1+4j]])\n",
    "#c = sum(c[:,0])\n",
    "#c = transpose(b.states[-1])*b.states[-1]\n",
    "#c = conjugate(transpose(c))*c\n",
    "#print('\\n')\n",
    "#print(c)\n",
    "#t = linspace(0,1,2)\n",
    "#print(t)\n",
    "#print((1+2j)*(1+1j))\n",
    "#help(random)\n",
    "b = random.random()\n",
    "\n",
    "F = 5/2\n",
    "\n",
    "vector_x = spin_Jx(F)\n",
    "tensor_x = (vector_x**2)\n",
    "\n",
    "vector_y = spin_Jy(F)\n",
    "tensor_y = (vector_y**2)\n",
    "\n",
    "vector_z = spin_Jz(F)\n",
    "tensor_z = (vector_z**2)\n",
    "\n",
    "print(vector_z)\n",
    "print(vector_x)\n",
    "print(vector_y)\n",
    "print(tensor_x)"
   ]
  },
  {
   "cell_type": "code",
   "execution_count": 5,
   "id": "fd345291",
   "metadata": {},
   "outputs": [
    {
     "data": {
      "text/plain": [
       "299792458.0"
      ]
     },
     "execution_count": 5,
     "metadata": {},
     "output_type": "execute_result"
    }
   ],
   "source": [
    "import scipy.constants as C\n",
    "\n",
    "C.c"
   ]
  },
  {
   "cell_type": "code",
   "execution_count": 6,
   "id": "dc20d8a3",
   "metadata": {},
   "outputs": [
    {
     "data": {
      "text/latex": [
       "$\\displaystyle \\frac{\\sqrt{6}}{6}$"
      ],
      "text/plain": [
       "sqrt(6)/6"
      ]
     },
     "execution_count": 6,
     "metadata": {},
     "output_type": "execute_result"
    }
   ],
   "source": [
    "from sympy.physics.wigner import wigner_3j\n",
    "from sympy.physics.wigner import wigner_6j\n",
    "\n",
    "wigner_6j(1/2,1,1/2,1,1/2,0)"
   ]
  },
  {
   "cell_type": "code",
   "execution_count": 7,
   "id": "dde04a6e",
   "metadata": {},
   "outputs": [
    {
     "data": {
      "text/plain": [
       "array([[1., 0.],\n",
       "       [0., 1.]])"
      ]
     },
     "execution_count": 7,
     "metadata": {},
     "output_type": "execute_result"
    }
   ],
   "source": [
    "a = 3+4j\n",
    "b = 2\n",
    "\n",
    "eye(2)"
   ]
  },
  {
   "cell_type": "code",
   "execution_count": 8,
   "id": "99ff152b",
   "metadata": {},
   "outputs": [
    {
     "name": "stdout",
     "output_type": "stream",
     "text": [
      "[[10.  5.]\n",
      " [ 5. 10.]]\n"
     ]
    }
   ],
   "source": [
    "a = array([[1,2],[3,4],[5,6]])\n",
    "b = zeros((3,2))\n",
    "b[:,1] = a[:,1]*a[:,1]\n",
    "\n",
    "a = [[6+8j,3+4j],[3+4j,6+8j]]\n",
    "b = absolute(a)\n",
    "print(b)\n",
    "\n"
   ]
  },
  {
   "cell_type": "code",
   "execution_count": 7,
   "id": "bc78fe2a",
   "metadata": {},
   "outputs": [
    {
     "name": "stdout",
     "output_type": "stream",
     "text": [
      "[ 1.11803399 -1.11803399]\n"
     ]
    }
   ],
   "source": [
    "# wigner_D matrix #\n",
    "\n",
    "#from qutip import*\n",
    "#from sympy.physics.wigner import*\n",
    "from sympy import*\n",
    "from numpy import*\n",
    "#help(linalg.eig)\n",
    "a = array([[0.5,1],[1,-0.5]])\n",
    "b = linalg.eig(a)[0]\n",
    "print(b)\n",
    "#help(wigner_d)\n",
    "#alpha, beta, gamma = symbols(\"alpha, beta, gamma\", real=True)\n",
    "#wigner_d(5/Integer(2),alpha,beta,gamma)"
   ]
  },
  {
   "cell_type": "code",
   "execution_count": 10,
   "id": "45da8727-9fde-4513-a9ef-2f6efeda7eaa",
   "metadata": {},
   "outputs": [
    {
     "data": {
      "text/plain": [
       "array([[1, 0, 0, 0],\n",
       "       [0, 2, 0, 0],\n",
       "       [0, 0, 3, 0],\n",
       "       [0, 0, 0, 4]])"
      ]
     },
     "execution_count": 10,
     "metadata": {},
     "output_type": "execute_result"
    }
   ],
   "source": [
    "import numpy as np\n",
    "np.diag([1,2,3,4])"
   ]
  }
 ],
 "metadata": {
  "kernelspec": {
   "display_name": "Python 3 (ipykernel)",
   "language": "python",
   "name": "python3"
  },
  "language_info": {
   "codemirror_mode": {
    "name": "ipython",
    "version": 3
   },
   "file_extension": ".py",
   "mimetype": "text/x-python",
   "name": "python",
   "nbconvert_exporter": "python",
   "pygments_lexer": "ipython3",
   "version": "3.10.8"
  }
 },
 "nbformat": 4,
 "nbformat_minor": 5
}
